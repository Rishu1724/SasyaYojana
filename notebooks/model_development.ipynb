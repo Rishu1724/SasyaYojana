{
 "cells": [
  {
   "cell_type": "markdown",
   "id": "df1260d5",
   "metadata": {},
   "source": [
    "# Sasya-Mitra AI Model Development Notebook\n",
    "\n",
    "This notebook demonstrates how to use the Sasya-Mitra AI models for agricultural recommendations."
   ]
  },
  {
   "cell_type": "code",
   "execution_count": null,
   "id": "292b09c2",
   "metadata": {},
   "outputs": [],
   "source": [
    "# Import required libraries\n",
    "import sys\n",
    "import os\n",
    "import pandas as pd\n",
    "import numpy as np\n",
    "\n",
    "# Add the models directory to the path\n",
    "sys.path.append(os.path.join(os.getcwd(), '..'))\n",
    "\n",
    "# Import our custom modules\n",
    "from preprocessing.data_processor import AgriDataPreprocessor\n",
    "from training.model_trainer import AgriYieldModel, AgriROIModel\n",
    "from recommendation.engine import AgriRecommendationEngine, SoilData, WeatherData, EconomicData"
   ]
  },
  {
   "cell_type": "markdown",
   "id": "545ac21d",
   "metadata": {},
   "source": [
    "## 1. Data Preprocessing Example"
   ]
  },
  {
   "cell_type": "code",
   "execution_count": null,
   "id": "887699ba",
   "metadata": {},
   "outputs": [],
   "source": [
    "# Initialize the preprocessor\n",
    "preprocessor = AgriDataPreprocessor()\n",
    "\n",
    "# Example of how you would load your data\n",
    "# nasa_data = preprocessor.load_nasa_power_data('path/to/nasa_data.csv')\n",
    "# price_data = preprocessor.load_crop_price_data('path/to/price_data.csv')\n",
    "# yield_data = preprocessor.load_yield_data('path/to/yield_data.csv')\n",
    "# area_data = preprocessor.load_area_data('path/to/area_data.csv')\n",
    "\n",
    "print(\"Data preprocessor initialized successfully\")"
   ]
  },
  {
   "cell_type": "markdown",
   "id": "42223526",
   "metadata": {},
   "source": [
    "## 2. Model Training Example"
   ]
  },
  {
   "cell_type": "code",
   "execution_count": null,
   "id": "0bd3e8c3",
   "metadata": {},
   "outputs": [],
   "source": [
    "# Initialize models\n",
    "yield_model = AgriYieldModel()\n",
    "roi_model = AgriROIModel()\n",
    "\n",
    "print(\"Models initialized successfully\")"
   ]
  },
  {
   "cell_type": "markdown",
   "id": "9594b064",
   "metadata": {},
   "source": [
    "## 3. Recommendation Engine Example"
   ]
  },
  {
   "cell_type": "code",
   "execution_count": null,
   "id": "e6514c08",
   "metadata": {},
   "outputs": [],
   "source": [
    "# Initialize the recommendation engine\n",
    "engine = AgriRecommendationEngine()\n",
    "\n",
    "# Sample data for demonstration\n",
    "soil_data = SoilData(\n",
    "    ph=6.7,\n",
    "    organic_carbon=1.2,\n",
    "    nitrogen=150,\n",
    "    phosphorus=40,\n",
    "    potassium=200,\n",
    "    texture='Loam',\n",
    "    drainage='Moderate'\n",
    ")\n",
    "\n",
    "weather_data = WeatherData(\n",
    "    rainfall_mm=850,\n",
    "    temperature_c=28,\n",
    "    humidity=65,\n",
    "    solar_radiation=5.5\n",
    ")\n",
    "\n",
    "economic_data = EconomicData(\n",
    "    budget_inr=60000,\n",
    "    labor_availability='Medium',\n",
    "    input_cost_type='Organic'\n",
    ")\n",
    "\n",
    "# Generate recommendation\n",
    "recommendation = engine.generate_recommendation(\n",
    "    soil_data, \n",
    "    weather_data, \n",
    "    economic_data, \n",
    "    5.0,  # land area in acres\n",
    "    \"Belagavi, Karnataka\"\n",
    ")\n",
    "\n",
    "print(\"=== Agricultural Recommendation ===\")\n",
    "print(f\"Location: Belagavi, Karnataka\")\n",
    "print(f\"Land Area: 5.0 acres\")\n",
    "print(f\"Main Crop: {recommendation.main_crop}\")\n",
    "print(f\"Intercrop: {recommendation.intercrop}\")\n",
    "print(f\"Trees: {', '.join(recommendation.trees)}\")\n",
    "print(f\"Layout: {recommendation.layout}\")\n",
    "print(f\"Expected Yield: {recommendation.expected_yield_kg:.0f} kg\")\n",
    "print(f\"Profit Estimate: ₹{recommendation.profit_estimate_inr:,.0f}\")\n",
    "print(f\"ROI: {recommendation.roi:.1f}x\")\n",
    "print(\"\\nSustainability Tips:\")\n",
    "for i, tip in enumerate(recommendation.sustainability_tips, 1):\n",
    "    print(f\"  {i}. {tip}\")"
   ]
  },
  {
   "cell_type": "markdown",
   "id": "4005d20c",
   "metadata": {},
   "source": [
    "## 4. Model Evaluation"
   ]
  },
  {
   "cell_type": "code",
   "execution_count": null,
   "id": "9eed9a50",
   "metadata": {},
   "outputs": [],
   "source": [
    "# Example of how you would evaluate your models\n",
    "# This would use your actual training data\n",
    "\n",
    "print(\"Model evaluation would be performed here with your actual datasets\")\n",
    "print(\"- NASA POWER data (Rainfall, Temperature, Humidity, Radiation)\")\n",
    "print(\"- Crop price datasets\")\n",
    "print(\"- All India level Area Under Principal Crops (2001-02 to 2015-16)\")\n",
    "print(\"- All India level Average Yield of Principal Crops (2001-02 to 2015-16)\")\n",
    "print(\"- Production of principal crops\")"
   ]
  }
 ],
 "metadata": {
  "language_info": {
   "name": "python"
  }
 },
 "nbformat": 4,
 "nbformat_minor": 5
}
